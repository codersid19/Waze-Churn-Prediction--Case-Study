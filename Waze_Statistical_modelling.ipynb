{
  "nbformat": 4,
  "nbformat_minor": 0,
  "metadata": {
    "colab": {
      "provenance": []
    },
    "kernelspec": {
      "name": "python3",
      "display_name": "Python 3"
    },
    "language_info": {
      "name": "python"
    }
  },
  "cells": [
    {
      "cell_type": "code",
      "execution_count": 3,
      "metadata": {
        "id": "RGyYJg7DAed2"
      },
      "outputs": [],
      "source": [
        "import pandas as pd\n",
        "from scipy import stats"
      ]
    },
    {
      "cell_type": "code",
      "source": [
        "df = pd.read_csv('/content/drive/MyDrive/Waze/waze_dataset.csv')"
      ],
      "metadata": {
        "id": "P3gsF6axApp5"
      },
      "execution_count": 4,
      "outputs": []
    },
    {
      "cell_type": "code",
      "source": [
        "# 1. Create `map_dictionary`\n",
        "map_dictionary = {'Android': 2, 'iPhone': 1}\n",
        "\n",
        "# 2. Create new `device_type` column\n",
        "df['device_type'] = df['device']\n",
        "\n",
        "# 3. Map the new column to the dictionary\n",
        "df['device_type'] = df['device_type'].map(map_dictionary)\n",
        "\n",
        "df['device_type'].head()"
      ],
      "metadata": {
        "colab": {
          "base_uri": "https://localhost:8080/"
        },
        "id": "v3kKljgyAps8",
        "outputId": "ff493424-1bb3-4f42-de78-9a060629af95"
      },
      "execution_count": 5,
      "outputs": [
        {
          "output_type": "execute_result",
          "data": {
            "text/plain": [
              "0    2\n",
              "1    1\n",
              "2    2\n",
              "3    1\n",
              "4    2\n",
              "Name: device_type, dtype: int64"
            ]
          },
          "metadata": {},
          "execution_count": 5
        }
      ]
    },
    {
      "cell_type": "code",
      "source": [
        "df.groupby('device_type')['drives'].mean()"
      ],
      "metadata": {
        "colab": {
          "base_uri": "https://localhost:8080/"
        },
        "id": "m1Du0D7mApvn",
        "outputId": "320d4932-fd15-4e88-b1b6-e1047d32e289"
      },
      "execution_count": 6,
      "outputs": [
        {
          "output_type": "execute_result",
          "data": {
            "text/plain": [
              "device_type\n",
              "1    67.859078\n",
              "2    66.231838\n",
              "Name: drives, dtype: float64"
            ]
          },
          "metadata": {},
          "execution_count": 6
        }
      ]
    },
    {
      "cell_type": "code",
      "source": [
        "# 1. Isolate the `drives` column for iPhone users.\n",
        "iPhone = df[df['device_type'] == 1]['drives']\n",
        "\n",
        "# 2. Isolate the `drives` column for Android users.\n",
        "Android = df[df['device_type'] == 2]['drives']\n",
        "\n",
        "# 3. Perform the t-test\n",
        "stats.ttest_ind(a=iPhone, b=Android, equal_var=False)"
      ],
      "metadata": {
        "colab": {
          "base_uri": "https://localhost:8080/"
        },
        "id": "NSN6o2iWApyX",
        "outputId": "374f0863-9a5d-48e6-830b-b2bc613c0fcb"
      },
      "execution_count": 7,
      "outputs": [
        {
          "output_type": "execute_result",
          "data": {
            "text/plain": [
              "TtestResult(statistic=1.463523206885235, pvalue=0.143351972680206, df=11345.066049381952)"
            ]
          },
          "metadata": {},
          "execution_count": 7
        }
      ]
    },
    {
      "cell_type": "markdown",
      "source": [
        "**Based on the p-value you got above, do you reject or fail to reject the null hypothesis?**\n",
        "\n",
        "Since the p-value is larger than the chosen significance level (5%), you fail to reject the null hypothesis. You conclude that there is not a statistically significant difference in the average number of drives between drivers who use iPhones and drivers who use Androids."
      ],
      "metadata": {
        "id": "E8AhQZV0BKBK"
      }
    },
    {
      "cell_type": "markdown",
      "source": [
        "**What business insight(s) can you draw from the result of your hypothesis test?**\n",
        "\n",
        "->The key business insight is that drivers who use iPhone devices on average have a similar number of drives as those who use Androids.\n",
        "\n",
        "One potential next step is to explore what other factors influence the variation in the number of drives, and run additonal hypothesis tests to learn more about user behavior. Further, temporary changes in marketing or user interface for the Waze app may provide more data to investigate churn."
      ],
      "metadata": {
        "id": "iFwTAjT0A8LN"
      }
    }
  ]
}